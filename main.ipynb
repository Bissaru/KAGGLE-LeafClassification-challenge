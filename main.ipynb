{
 "cells": [
  {
   "cell_type": "markdown",
   "metadata": {},
   "source": [
    "# Leaf Classification main Notebook"
   ]
  },
  {
   "cell_type": "markdown",
   "metadata": {},
   "source": [
    "### Dependencies"
   ]
  },
  {
   "cell_type": "code",
   "execution_count": 1,
   "metadata": {},
   "outputs": [],
   "source": [
    "import numpy as np\n",
    "import pandas as pd\n",
    "import tensorflow as tf\n",
    "import matplotlib.pyplot as plt\n",
    "\n",
    "from utils import COMPILE,CALLBACKS\n",
    "from config import *\n",
    "\n",
    "from tensorflow.keras.utils import image_dataset_from_directory\n",
    "from tensorflow.keras.preprocessing.image import ImageDataGenerator"
   ]
  },
  {
   "cell_type": "markdown",
   "metadata": {},
   "source": [
    "### Preparing the Data"
   ]
  },
  {
   "cell_type": "code",
   "execution_count": 2,
   "metadata": {},
   "outputs": [],
   "source": [
    "train_df = pd.read_csv(TRAIN_CSV_PATH)\n",
    "# DATA_ORGANIZER(df=train_df,dir = IMAGES_DIR)"
   ]
  },
  {
   "cell_type": "code",
   "execution_count": 3,
   "metadata": {},
   "outputs": [
    {
     "name": "stdout",
     "output_type": "stream",
     "text": [
      "Found 990 files belonging to 99 classes.\n",
      "Using 792 files for training.\n",
      "Found 990 files belonging to 99 classes.\n",
      "Using 198 files for validation.\n"
     ]
    }
   ],
   "source": [
    "train_img = image_dataset_from_directory(directory=TRAIN_IMAGES_DIR,\n",
    "                                         image_size=IMAGE_SIZE,\n",
    "                                         color_mode=\"grayscale\",\n",
    "                                         validation_split=VALIDATION_SPLIT,\n",
    "                                         subset=\"training\",\n",
    "                                         seed=SEED)\n",
    "\n",
    "val_img = image_dataset_from_directory(directory=TRAIN_IMAGES_DIR,\n",
    "                                         image_size=IMAGE_SIZE,\n",
    "                                         color_mode=\"grayscale\",\n",
    "                                         validation_split=VALIDATION_SPLIT,\n",
    "                                         subset=\"validation\",\n",
    "                                         seed=SEED)"
   ]
  },
  {
   "cell_type": "code",
   "execution_count": 4,
   "metadata": {},
   "outputs": [
    {
     "name": "stdout",
     "output_type": "stream",
     "text": [
      "['Acer_Capillipes', 'Acer_Circinatum', 'Acer_Mono', 'Acer_Opalus', 'Acer_Palmatum', 'Acer_Pictum', 'Acer_Platanoids', 'Acer_Rubrum', 'Acer_Rufinerve', 'Acer_Saccharinum', 'Alnus_Cordata', 'Alnus_Maximowiczii', 'Alnus_Rubra', 'Alnus_Sieboldiana', 'Alnus_Viridis', 'Arundinaria_Simonii', 'Betula_Austrosinensis', 'Betula_Pendula', 'Callicarpa_Bodinieri', 'Castanea_Sativa', 'Celtis_Koraiensis', 'Cercis_Siliquastrum', 'Cornus_Chinensis', 'Cornus_Controversa', 'Cornus_Macrophylla', 'Cotinus_Coggygria', 'Crataegus_Monogyna', 'Cytisus_Battandieri', 'Eucalyptus_Glaucescens', 'Eucalyptus_Neglecta', 'Eucalyptus_Urnigera', 'Fagus_Sylvatica', 'Ginkgo_Biloba', 'Ilex_Aquifolium', 'Ilex_Cornuta', 'Liquidambar_Styraciflua', 'Liriodendron_Tulipifera', 'Lithocarpus_Cleistocarpus', 'Lithocarpus_Edulis', 'Magnolia_Heptapeta', 'Magnolia_Salicifolia', 'Morus_Nigra', 'Olea_Europaea', 'Phildelphus', 'Populus_Adenopoda', 'Populus_Grandidentata', 'Populus_Nigra', 'Prunus_Avium', 'Prunus_X_Shmittii', 'Pterocarya_Stenoptera', 'Quercus_Afares', 'Quercus_Agrifolia', 'Quercus_Alnifolia', 'Quercus_Brantii', 'Quercus_Canariensis', 'Quercus_Castaneifolia', 'Quercus_Cerris', 'Quercus_Chrysolepis', 'Quercus_Coccifera', 'Quercus_Coccinea', 'Quercus_Crassifolia', 'Quercus_Crassipes', 'Quercus_Dolicholepis', 'Quercus_Ellipsoidalis', 'Quercus_Greggii', 'Quercus_Hartwissiana', 'Quercus_Ilex', 'Quercus_Imbricaria', 'Quercus_Infectoria_sub', 'Quercus_Kewensis', 'Quercus_Nigra', 'Quercus_Palustris', 'Quercus_Phellos', 'Quercus_Phillyraeoides', 'Quercus_Pontica', 'Quercus_Pubescens', 'Quercus_Pyrenaica', 'Quercus_Rhysophylla', 'Quercus_Rubra', 'Quercus_Semecarpifolia', 'Quercus_Shumardii', 'Quercus_Suber', 'Quercus_Texana', 'Quercus_Trojana', 'Quercus_Variabilis', 'Quercus_Vulcanica', 'Quercus_x_Hispanica', 'Quercus_x_Turneri', 'Rhododendron_x_Russellianum', 'Salix_Fragilis', 'Salix_Intergra', 'Sorbus_Aria', 'Tilia_Oliveri', 'Tilia_Platyphyllos', 'Tilia_Tomentosa', 'Ulmus_Bergmanniana', 'Viburnum_Tinus', 'Viburnum_x_Rhytidophylloides', 'Zelkova_Serrata']\n"
     ]
    }
   ],
   "source": [
    "batch = train_img.as_numpy_iterator().next()\n",
    "class_names = train_img.class_names\n",
    "\n",
    "print(class_names)"
   ]
  },
  {
   "cell_type": "markdown",
   "metadata": {},
   "source": [
    "### Vizualizing the data"
   ]
  },
  {
   "cell_type": "code",
   "execution_count": 5,
   "metadata": {},
   "outputs": [
    {
     "data": {
      "image/png": "[encoded data removed]",
      "text/plain": [
       "<Figure size 1440x1440 with 3 Axes>"
      ]
     },
     "metadata": {
      "needs_background": "light"
     },
     "output_type": "display_data"
    }
   ],
   "source": [
    "fig,ax = plt.subplots(ncols=3,figsize = (20,20))\n",
    "for i,img in enumerate(batch[0][:3]):\n",
    "    ax[i].imshow(img.astype(int),cmap = \"gray\")\n",
    "    ax[i].title.set_text(class_names[i])\n",
    "    ax[i].grid(True)"
   ]
  },
  {
   "cell_type": "markdown",
   "metadata": {},
   "source": [
    "### Preprocessing the Data"
   ]
  },
  {
   "cell_type": "code",
   "execution_count": 6,
   "metadata": {},
   "outputs": [
    {
     "name": "stdout",
     "output_type": "stream",
     "text": [
      "Found 792 images belonging to 99 classes.\n",
      "Found 198 images belonging to 99 classes.\n"
     ]
    }
   ],
   "source": [
    "train_datagen = ImageDataGenerator(\n",
    "    rescale=1./255,\n",
    "    rotation_range=ROTATION_RANGE,\n",
    "    horizontal_flip=HORIZONTAL_FLIP,\n",
    "    validation_split=VALIDATION_SPLIT,\n",
    "    fill_mode=FILMODE\n",
    ")\n",
    "\n",
    "preprocessed_train_img = train_datagen.flow_from_directory(\n",
    "    directory=TRAIN_IMAGES_DIR,\n",
    "    subset=\"training\",\n",
    "    shuffle=SHUFFLE_VALUE,\n",
    "    seed=SEED,\n",
    "    target_size=IMAGE_SIZE,\n",
    "    color_mode= COLOR_MODE,\n",
    "    batch_size=BATCH_SIZE,\n",
    "    class_mode=CLASS_MODE\n",
    "\n",
    ")\n",
    "\n",
    "preprocessed_val_img = train_datagen.flow_from_directory(\n",
    "    directory=TRAIN_IMAGES_DIR,\n",
    "    subset=\"validation\",\n",
    "    shuffle=SHUFFLE_VALUE,\n",
    "    seed=SEED,\n",
    "    target_size=IMAGE_SIZE,\n",
    "    color_mode= COLOR_MODE,\n",
    "    batch_size=VAL_BATCH_SIZE,\n",
    "    class_mode=CLASS_MODE\n",
    "\n",
    ")"
   ]
  },
  {
   "cell_type": "markdown",
   "metadata": {},
   "source": [
    "### Training the neural network\n"
   ]
  },
  {
   "cell_type": "code",
   "execution_count": 9,
   "metadata": {},
   "outputs": [
    {
     "name": "stdout",
     "output_type": "stream",
     "text": [
      "Model: \"sequential_1\"\n",
      "_________________________________________________________________\n",
      "Layer (type)                 Output Shape              Param #   \n",
      "=================================================================\n",
      "conv2d_3 (Conv2D)            (None, 30, 30, 64)        640       \n",
      "_________________________________________________________________\n",
      "max_pooling2d_3 (MaxPooling2 (None, 15, 15, 64)        0         \n",
      "_________________________________________________________________\n",
      "conv2d_4 (Conv2D)            (None, 13, 13, 128)       73856     \n",
      "_________________________________________________________________\n",
      "max_pooling2d_4 (MaxPooling2 (None, 6, 6, 128)         0         \n",
      "_________________________________________________________________\n",
      "flatten_1 (Flatten)          (None, 4608)              0         \n",
      "_________________________________________________________________\n",
      "dense_2 (Dense)              (None, 256)               1179904   \n",
      "_________________________________________________________________\n",
      "dropout_1 (Dropout)          (None, 256)               0         \n",
      "_________________________________________________________________\n",
      "dense_3 (Dense)              (None, 99)                25443     \n",
      "=================================================================\n",
      "Total params: 1,279,843\n",
      "Trainable params: 1,279,843\n",
      "Non-trainable params: 0\n",
      "_________________________________________________________________\n"
     ]
    }
   ],
   "source": [
    "model = tf.keras.models.Sequential()\n",
    "\n",
    "model.add(tf.keras.layers.InputLayer(input_shape=INPUT_SHAPE))\n",
    "\n",
    "model.add(tf.keras.layers.Conv2D(filters=64,kernel_size=3,activation=\"tanh\"))\n",
    "model.add(tf.keras.layers.MaxPool2D(pool_size=2,strides=2))\n",
    "\n",
    "model.add(tf.keras.layers.Conv2D(filters=128,kernel_size=3,activation=\"tanh\"))\n",
    "model.add(tf.keras.layers.MaxPool2D(pool_size=2,strides=2))\n",
    "\n",
    "model.add(tf.keras.layers.Flatten())\n",
    "\n",
    "model.add(tf.keras.layers.Dense(256,activation=\"relu\"))\n",
    "model.add(tf.keras.layers.Dropout(0.2))\n",
    "\n",
    "model.add(tf.keras.layers.Dense(99,activation=\"softmax\"))\n",
    "model.summary()"
   ]
  },
  {
   "cell_type": "code",
   "execution_count": 10,
   "metadata": {},
   "outputs": [
    {
     "name": "stdout",
     "output_type": "stream",
     "text": [
      "Epoch 1/50\n",
      "25/25 [==============================] - 1s 31ms/step - loss: 4.6384 - accuracy: 0.0152 - val_loss: 4.5073 - val_accuracy: 0.0404\n",
      "Epoch 2/50\n",
      "25/25 [==============================] - 1s 25ms/step - loss: 4.3592 - accuracy: 0.0391 - val_loss: 3.9712 - val_accuracy: 0.0909\n",
      "Epoch 3/50\n",
      "25/25 [==============================] - 1s 26ms/step - loss: 3.8632 - accuracy: 0.0947 - val_loss: 3.4439 - val_accuracy: 0.1919\n",
      "Epoch 4/50\n",
      "25/25 [==============================] - 1s 25ms/step - loss: 3.3722 - accuracy: 0.1982 - val_loss: 2.9845 - val_accuracy: 0.2525\n",
      "Epoch 5/50\n",
      "25/25 [==============================] - 1s 25ms/step - loss: 3.0080 - accuracy: 0.2424 - val_loss: 2.6960 - val_accuracy: 0.3131\n",
      "Epoch 6/50\n",
      "25/25 [==============================] - 1s 25ms/step - loss: 2.7700 - accuracy: 0.2689 - val_loss: 2.5575 - val_accuracy: 0.3182\n",
      "Epoch 7/50\n",
      "25/25 [==============================] - 1s 25ms/step - loss: 2.5053 - accuracy: 0.3422 - val_loss: 2.4030 - val_accuracy: 0.3737\n",
      "Epoch 8/50\n",
      "25/25 [==============================] - 1s 25ms/step - loss: 2.3502 - accuracy: 0.3725 - val_loss: 2.2217 - val_accuracy: 0.4293\n",
      "Epoch 9/50\n",
      "25/25 [==============================] - 1s 25ms/step - loss: 2.1574 - accuracy: 0.3939 - val_loss: 2.1890 - val_accuracy: 0.3737\n",
      "Epoch 10/50\n",
      "25/25 [==============================] - 1s 25ms/step - loss: 2.0758 - accuracy: 0.4167 - val_loss: 2.2192 - val_accuracy: 0.3737\n",
      "Epoch 11/50\n",
      "25/25 [==============================] - 1s 25ms/step - loss: 1.9576 - accuracy: 0.4381 - val_loss: 2.0854 - val_accuracy: 0.4545\n",
      "Epoch 12/50\n",
      "25/25 [==============================] - 1s 26ms/step - loss: 1.9369 - accuracy: 0.4520 - val_loss: 2.0466 - val_accuracy: 0.4242\n",
      "Epoch 13/50\n",
      "25/25 [==============================] - 1s 26ms/step - loss: 1.7909 - accuracy: 0.4811 - val_loss: 1.8797 - val_accuracy: 0.4899\n",
      "Epoch 14/50\n",
      "25/25 [==============================] - 1s 25ms/step - loss: 1.6689 - accuracy: 0.5227 - val_loss: 1.8749 - val_accuracy: 0.4545\n",
      "Epoch 15/50\n",
      "25/25 [==============================] - 1s 25ms/step - loss: 1.5906 - accuracy: 0.5316 - val_loss: 1.8896 - val_accuracy: 0.4596\n",
      "Epoch 16/50\n",
      "25/25 [==============================] - 1s 25ms/step - loss: 1.5760 - accuracy: 0.5164 - val_loss: 1.7339 - val_accuracy: 0.5152\n",
      "Epoch 17/50\n",
      "25/25 [==============================] - 1s 25ms/step - loss: 1.5420 - accuracy: 0.5556 - val_loss: 1.6866 - val_accuracy: 0.5152\n",
      "Epoch 18/50\n",
      "25/25 [==============================] - 1s 25ms/step - loss: 1.4110 - accuracy: 0.5669 - val_loss: 1.7174 - val_accuracy: 0.5101\n",
      "Epoch 19/50\n",
      "25/25 [==============================] - 1s 25ms/step - loss: 1.3687 - accuracy: 0.5871 - val_loss: 1.8241 - val_accuracy: 0.4899\n",
      "Epoch 20/50\n",
      "25/25 [==============================] - 1s 25ms/step - loss: 1.3810 - accuracy: 0.5808 - val_loss: 1.6047 - val_accuracy: 0.5505\n",
      "Epoch 21/50\n",
      "25/25 [==============================] - 1s 27ms/step - loss: 1.3595 - accuracy: 0.5783 - val_loss: 1.7457 - val_accuracy: 0.5101\n",
      "Epoch 22/50\n",
      "25/25 [==============================] - 1s 25ms/step - loss: 1.2517 - accuracy: 0.6162 - val_loss: 1.5999 - val_accuracy: 0.5152\n",
      "Epoch 23/50\n",
      "25/25 [==============================] - 1s 25ms/step - loss: 1.1894 - accuracy: 0.6604 - val_loss: 1.5668 - val_accuracy: 0.5909\n",
      "Epoch 24/50\n",
      "25/25 [==============================] - 1s 26ms/step - loss: 1.1764 - accuracy: 0.6364 - val_loss: 1.6925 - val_accuracy: 0.5455\n",
      "Epoch 25/50\n",
      "25/25 [==============================] - 1s 25ms/step - loss: 1.1137 - accuracy: 0.6616 - val_loss: 1.5875 - val_accuracy: 0.5960\n",
      "Epoch 26/50\n",
      "25/25 [==============================] - 1s 25ms/step - loss: 1.0927 - accuracy: 0.6667 - val_loss: 1.6766 - val_accuracy: 0.5202\n",
      "Epoch 27/50\n",
      "25/25 [==============================] - 1s 25ms/step - loss: 1.0761 - accuracy: 0.6629 - val_loss: 1.6128 - val_accuracy: 0.5556\n",
      "Epoch 28/50\n",
      "25/25 [==============================] - 1s 26ms/step - loss: 1.1388 - accuracy: 0.6528 - val_loss: 1.5452 - val_accuracy: 0.5505\n",
      "Epoch 29/50\n",
      "25/25 [==============================] - 1s 26ms/step - loss: 1.0660 - accuracy: 0.6755 - val_loss: 1.5031 - val_accuracy: 0.5202\n",
      "Epoch 30/50\n",
      "25/25 [==============================] - 1s 26ms/step - loss: 1.0123 - accuracy: 0.6730 - val_loss: 1.6718 - val_accuracy: 0.5707\n",
      "Epoch 31/50\n",
      "25/25 [==============================] - 1s 25ms/step - loss: 0.9780 - accuracy: 0.6780 - val_loss: 1.5713 - val_accuracy: 0.5707\n",
      "Epoch 32/50\n",
      "25/25 [==============================] - 1s 26ms/step - loss: 0.9546 - accuracy: 0.7020 - val_loss: 1.4740 - val_accuracy: 0.5909\n",
      "Epoch 33/50\n",
      "25/25 [==============================] - 1s 26ms/step - loss: 0.9497 - accuracy: 0.7033 - val_loss: 1.6309 - val_accuracy: 0.5253\n",
      "Epoch 34/50\n",
      "25/25 [==============================] - 1s 25ms/step - loss: 0.9145 - accuracy: 0.7083 - val_loss: 1.6457 - val_accuracy: 0.5303\n",
      "Epoch 35/50\n",
      "25/25 [==============================] - 1s 25ms/step - loss: 0.8871 - accuracy: 0.7172 - val_loss: 1.5904 - val_accuracy: 0.5657\n",
      "Epoch 36/50\n",
      "25/25 [==============================] - 1s 26ms/step - loss: 0.8599 - accuracy: 0.7197 - val_loss: 1.4626 - val_accuracy: 0.5657\n",
      "Epoch 37/50\n",
      "25/25 [==============================] - 1s 25ms/step - loss: 0.7886 - accuracy: 0.7399 - val_loss: 1.4732 - val_accuracy: 0.6162\n",
      "Epoch 38/50\n",
      "25/25 [==============================] - 1s 25ms/step - loss: 0.8285 - accuracy: 0.7285 - val_loss: 1.6852 - val_accuracy: 0.5455\n",
      "Epoch 39/50\n",
      "25/25 [==============================] - 1s 25ms/step - loss: 0.7674 - accuracy: 0.7664 - val_loss: 1.5439 - val_accuracy: 0.5859\n",
      "Epoch 40/50\n",
      "25/25 [==============================] - 1s 26ms/step - loss: 0.7646 - accuracy: 0.7702 - val_loss: 1.4968 - val_accuracy: 0.6111\n",
      "Epoch 41/50\n",
      "25/25 [==============================] - 1s 25ms/step - loss: 0.7671 - accuracy: 0.7399 - val_loss: 1.5669 - val_accuracy: 0.5909\n",
      "Epoch 42/50\n",
      "25/25 [==============================] - 1s 25ms/step - loss: 0.6991 - accuracy: 0.7664 - val_loss: 1.5528 - val_accuracy: 0.5960\n",
      "Epoch 43/50\n",
      "25/25 [==============================] - 1s 25ms/step - loss: 0.6788 - accuracy: 0.7778 - val_loss: 1.6444 - val_accuracy: 0.5808\n",
      "Epoch 44/50\n",
      "25/25 [==============================] - 1s 25ms/step - loss: 0.6876 - accuracy: 0.7753 - val_loss: 1.6724 - val_accuracy: 0.6061\n",
      "Epoch 45/50\n",
      "25/25 [==============================] - 1s 25ms/step - loss: 0.6632 - accuracy: 0.7778 - val_loss: 1.5882 - val_accuracy: 0.5404\n",
      "Epoch 46/50\n",
      "25/25 [==============================] - 1s 28ms/step - loss: 0.6572 - accuracy: 0.7828 - val_loss: 1.6146 - val_accuracy: 0.5909\n",
      "Epoch 47/50\n",
      "25/25 [==============================] - 1s 25ms/step - loss: 0.6288 - accuracy: 0.7828 - val_loss: 1.5237 - val_accuracy: 0.5606\n",
      "Epoch 48/50\n",
      "25/25 [==============================] - 1s 25ms/step - loss: 0.6431 - accuracy: 0.7841 - val_loss: 1.6525 - val_accuracy: 0.5758\n",
      "Epoch 49/50\n",
      "25/25 [==============================] - 1s 25ms/step - loss: 0.5965 - accuracy: 0.7917 - val_loss: 1.6996 - val_accuracy: 0.5758\n",
      "Epoch 50/50\n",
      "25/25 [==============================] - 1s 25ms/step - loss: 0.6063 - accuracy: 0.8005 - val_loss: 1.6701 - val_accuracy: 0.5758\n"
     ]
    },
    {
     "data": {
      "text/plain": [
       "<keras.callbacks.History at 0x2f0f08bcfd0>"
      ]
     },
     "execution_count": 10,
     "metadata": {},
     "output_type": "execute_result"
    }
   ],
   "source": [
    "callbacks = CALLBACKS.MODEL_CHECKPOINT_CALLBACK\n",
    "\n",
    "model.compile(loss = \"categorical_crossentropy\",optimizer=\"adam\",metrics=[\"accuracy\"])\n",
    "model.fit(preprocessed_train_img,validation_data=preprocessed_val_img,\n",
    "          batch_size=BATCH_SIZE,\n",
    "          validation_batch_size=VAL_BATCH_SIZE,\n",
    "          epochs=EPOCHS)"
   ]
  },
  {
   "cell_type": "code",
   "execution_count": null,
   "metadata": {},
   "outputs": [],
   "source": []
  }
 ],
 "metadata": {
  "kernelspec": {
   "display_name": "tfdml",
   "language": "python",
   "name": "python3"
  },
  "language_info": {
   "codemirror_mode": {
    "name": "ipython",
    "version": 3
   },
   "file_extension": ".py",
   "mimetype": "text/x-python",
   "name": "python",
   "nbconvert_exporter": "python",
   "pygments_lexer": "ipython3",
   "version": "3.6.13"
  }
 },
 "nbformat": 4,
 "nbformat_minor": 2
}
